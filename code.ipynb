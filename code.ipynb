{
 "cells": [
  {
   "cell_type": "markdown",
   "metadata": {},
   "source": [
    "### Import necessary modules"
   ]
  },
  {
   "cell_type": "code",
   "execution_count": 1,
   "metadata": {},
   "outputs": [],
   "source": [
    "import os\n",
    "import csv\n",
    "import numpy as np\n",
    "import scipy\n",
    "from scipy import integrate\n",
    "import time"
   ]
  },
  {
   "cell_type": "markdown",
   "metadata": {},
   "source": [
    "### Define constants"
   ]
  },
  {
   "cell_type": "code",
   "execution_count": 2,
   "metadata": {},
   "outputs": [],
   "source": [
    "ATOMS = 37\n",
    "ANGSTROM = 1.88972612 # the value of one angstrom in Hartree atomic units\n",
    "AMU = 1822.8885 # value of 1 amu in Hartree atomic units\n",
    "H_MASS = 1.00784 * AMU\n",
    "C_MASS = 12.0096 * AMU\n",
    "O_MASS = 15.99903 * AMU\n",
    "elements = (\"H\", \"C\", \"O\")"
   ]
  },
  {
   "cell_type": "markdown",
   "metadata": {},
   "source": [
    "### Define functions to get atomic features"
   ]
  },
  {
   "cell_type": "code",
   "execution_count": 3,
   "metadata": {},
   "outputs": [],
   "source": [
    "def atomic_number(element):\n",
    "    if element == \"H\":\n",
    "        protons = 1\n",
    "    if element == \"C\":\n",
    "        protons = 6\n",
    "    if element == \"O\":\n",
    "        protons = 8\n",
    "    return protons\n",
    "\n",
    "def atomic_weight(element):\n",
    "    if element == \"H\":\n",
    "        weight = H_MASS\n",
    "    if element == \"C\":\n",
    "        weight = C_MASS\n",
    "    if element == \"O\":\n",
    "        weight = O_MASS\n",
    "    return weight\n",
    "\n",
    "def isfloat(value):\n",
    "    try:\n",
    "        float(value)\n",
    "        return True\n",
    "    except ValueError:\n",
    "        return False"
   ]
  },
  {
   "cell_type": "markdown",
   "metadata": {},
   "source": [
    "### Import atomic coordinates of fluorescein molecule"
   ]
  },
  {
   "cell_type": "code",
   "execution_count": 4,
   "metadata": {},
   "outputs": [],
   "source": [
    "nuclear_angstroms = np.empty((ATOMS,3))\n",
    "nuclear_elements = np.empty(ATOMS, dtype=str)\n",
    "os.chdir(\"/Users/tylerdougan/Dropbox (HMS)/Documents/Classes/Quantum Mechanics/Final Project/\")\n",
    "with open(\"fluorescein.csv\", newline=\"\") as csvfile:\n",
    "    csv_file_reader = csv.reader(csvfile)\n",
    "    for atom, row in enumerate(csv_file_reader):\n",
    "        nuclear_angstroms[atom, 0:2] = row[0:2]\n",
    "        nuclear_elements[atom] = row[3]\n",
    "\n",
    "nuclear_coordinates = nuclear_angstroms * ANGSTROM\n",
    "nuclear_charges = np.empty(ATOMS)\n",
    "atomic_masses = np.empty(ATOMS)\n",
    "for atom, element in enumerate(nuclear_elements):\n",
    "    nuclear_charges[atom] = atomic_number(element)\n",
    "    atomic_masses[atom] = atomic_weight(element)"
   ]
  },
  {
   "cell_type": "markdown",
   "metadata": {},
   "source": [
    "### Define basis functions"
   ]
  },
  {
   "cell_type": "code",
   "execution_count": 5,
   "metadata": {},
   "outputs": [],
   "source": [
    "def inner_product(psi1, psi2):\n",
    "    integrand = lambda x,y,z: psi1(x,y,z) * psi2(x,y,z)\n",
    "    integral = scipy.integrate.nquad(\n",
    "        integrand,\n",
    "        ranges=[[-np.inf,np.inf], [-np.inf,np.inf], [-np.inf,np.inf]])\n",
    "    return integral\n",
    "\n",
    "# import basis set\n",
    "basis_started = False\n",
    "basis_functions = dict([(element, dict()) for element in elements])\n",
    "with open(\"sto-2g.bse\") as csvfile:\n",
    "    csv_file_reader = csv.reader(csvfile)\n",
    "    for atom, row in enumerate(csv_file_reader):\n",
    "        if len(row) > 0:\n",
    "            line = str.split(row[0])\n",
    "            if line[0] == \"Element:\":\n",
    "                current_element = line[1]\n",
    "            if line[0] == \"Shell:\":\n",
    "                current_shell = int(line[2]) + 1\n",
    "                current_orbital = line[-1]\n",
    "                for degeneracy in current_orbital:\n",
    "                    basis_functions[current_element].update(\n",
    "                        {(current_shell, degeneracy) : []})\n",
    "            if isfloat(line[0]):\n",
    "                for orbit, degeneracy in enumerate(current_orbital):\n",
    "                    basis_functions[current_element][(current_shell, degeneracy)].append(\n",
    "                        (float(line[0]), float(line[orbit+1])))\n",
    "\n",
    "exponents = []\n",
    "for atom, element in enumerate(nuclear_elements):\n",
    "    exponents.append([])\n",
    "    for shell in basis_functions[element]:\n",
    "        for alpha in basis_functions[element][shell]:\n",
    "            if float(alpha[0]) not in exponents[atom]:\n",
    "                exponents[atom].append(float(alpha[0]))"
   ]
  },
  {
   "cell_type": "markdown",
   "metadata": {},
   "source": [
    "### Integrate\n",
    "scipy.integrate.nquad uses FORTRAN QUADPAC algorithm"
   ]
  },
  {
   "cell_type": "code",
   "execution_count": 6,
   "metadata": {},
   "outputs": [
    {
     "name": "stdout",
     "output_type": "stream",
     "text": [
      "95.44831109046936\n"
     ]
    }
   ],
   "source": [
    "t1 = time.time()\n",
    "h1s = lambda x,y,z: basis_functions[\"H\"][(1, \"S\")][0][1] * (\n",
    "    2*basis_functions[\"H\"][(1, \"S\")][0][0] / np.pi)**(3/2) * np.exp(\n",
    "    -basis_functions[\"H\"][(1, \"S\")][0][0] * (x**2 + y**2 + z**2)) + basis_functions[\"H\"][(1, \"S\")][1][1] * (\n",
    "    2*basis_functions[\"H\"][(1, \"S\")][1][0] / np.pi)**(3/2) * np.exp(\n",
    "    -basis_functions[\"H\"][(1, \"S\")][1][0] * (x**2 + y**2 + z**2))\n",
    "psi1psi2 = inner_product(h1s, h1s)\n",
    "t2 = time.time()\n",
    "print(t2 - t1)"
   ]
  }
 ],
 "metadata": {
  "kernelspec": {
   "display_name": "Python 3",
   "language": "python",
   "name": "python3"
  },
  "language_info": {
   "codemirror_mode": {
    "name": "ipython",
    "version": 3
   },
   "file_extension": ".py",
   "mimetype": "text/x-python",
   "name": "python",
   "nbconvert_exporter": "python",
   "pygments_lexer": "ipython3",
   "version": "3.7.6"
  }
 },
 "nbformat": 4,
 "nbformat_minor": 4
}
